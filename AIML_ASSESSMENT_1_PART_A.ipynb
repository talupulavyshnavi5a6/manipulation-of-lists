{
  "cells": [
    {
      "cell_type": "markdown",
      "metadata": {
        "id": "5TrQr1Rjx1zj"
      },
      "source": [
        "# **Python List Manipulation  Task**"
      ]
    },
    {
      "cell_type": "code",
      "execution_count": 2,
      "metadata": {
        "id": "2DzAR8GIyueh"
      },
      "outputs": [],
      "source": [
        "ListManipulator = []"
      ]
    },
    {
      "cell_type": "code",
      "execution_count": 3,
      "metadata": {
        "id": "eZtmm6UIx8ug"
      },
      "outputs": [],
      "source": [
        "ListManipulator = [\"Mahesh\",\"anusha\",\"siva\"]"
      ]
    },
    {
      "cell_type": "code",
      "execution_count": 4,
      "metadata": {
        "colab": {
          "base_uri": "https://localhost:8080/"
        },
        "id": "MPSZlK7b0Rz4",
        "outputId": "4dbf19cc-3037-46cd-f1d9-670c8f858aa1"
      },
      "outputs": [
        {
          "name": "stdout",
          "output_type": "stream",
          "text": [
            "['Mahesh', 'anusha', 'siva', 'Suri']\n"
          ]
        }
      ],
      "source": [
        "# Take a list of elements ass a parameter and appends them to the internal list\n",
        "\n",
        "ListManipulator = [\"Mahesh\",\"anusha\",\"siva\"]\n",
        "ListManipulator.append(\"Suri\")\n",
        "print(ListManipulator)"
      ]
    },
    {
      "cell_type": "code",
      "execution_count": 5,
      "metadata": {
        "colab": {
          "base_uri": "https://localhost:8080/"
        },
        "id": "0WKQywSKS0RV",
        "outputId": "ca48ce5f-f8b2-4674-89ac-9f0bf7b0a34d"
      },
      "outputs": [
        {
          "name": "stdout",
          "output_type": "stream",
          "text": [
            "['Mahesh', 'anusha', 'siva', 'Suri', 'Venu']\n"
          ]
        }
      ],
      "source": [
        "# Remove Duplicate values from the internal list\n",
        "\n",
        "ListManipulator = [\"Mahesh\",\"anusha\",\"siva\",'Suri',\"Mahesh\",\"Venu\",\"Suri\"]\n",
        "new_list = []\n",
        "for item in ListManipulator:\n",
        "    if item not in new_list:\n",
        "        new_list.append(item)\n",
        "print(new_list)\n"
      ]
    },
    {
      "cell_type": "code",
      "execution_count": 6,
      "metadata": {
        "colab": {
          "base_uri": "https://localhost:8080/"
        },
        "id": "P13XoLtDXom6",
        "outputId": "8347992d-5427-498d-bc0d-28417cea0b3f"
      },
      "outputs": [
        {
          "name": "stdout",
          "output_type": "stream",
          "text": [
            "['Suri', 'Venu', 'Mahesh', 'Suri', 'siva', 'anusha', 'Mahesh']\n"
          ]
        }
      ],
      "source": [
        "# Reverse the order of the elements in the internal list\n",
        "\n",
        "ListManipulator = [\"Mahesh\",\"anusha\",\"siva\",'Suri',\"Mahesh\",\"Venu\",\"Suri\"]\n",
        "ListManipulator.reverse()\n",
        "print(ListManipulator)"
      ]
    },
    {
      "cell_type": "code",
      "execution_count": 7,
      "metadata": {
        "colab": {
          "base_uri": "https://localhost:8080/"
        },
        "id": "MA5IHj-_Vcxs",
        "outputId": "5ef30cc0-a4b6-41c3-8d36-245a18b66d2f"
      },
      "outputs": [
        {
          "name": "stdout",
          "output_type": "stream",
          "text": [
            "[1, 1, 2, 3, 3, 4, 5, 5, 5, 6, 9]\n"
          ]
        }
      ],
      "source": [
        "# Sort the elements in the internal list in ascending order\n",
        "\n",
        "my_list = [3, 1, 4, 1, 5, 9, 2, 6, 5, 3, 5]\n",
        "my_list.sort()\n",
        "print(my_list)\n"
      ]
    },
    {
      "cell_type": "code",
      "execution_count": 8,
      "metadata": {
        "colab": {
          "base_uri": "https://localhost:8080/"
        },
        "id": "h5BWI2i7WEzL",
        "outputId": "4d886836-78ad-46cc-9622-b3f5355a1f1a"
      },
      "outputs": [
        {
          "name": "stdout",
          "output_type": "stream",
          "text": [
            "['siva', 'Suri', 'anusha', 'Mahesh', 'Venu']\n"
          ]
        }
      ],
      "source": [
        "# Get unique elements\n",
        "\n",
        "ListManipulator = [\"Mahesh\",\"anusha\",\"siva\",'Suri',\"Mahesh\",\"Venu\",\"Suri\"]\n",
        "unique_elements = list(set(ListManipulator))\n",
        "print(unique_elements)\n"
      ]
    },
    {
      "cell_type": "code",
      "execution_count": 9,
      "metadata": {
        "colab": {
          "base_uri": "https://localhost:8080/"
        },
        "id": "ruFuj6_eX1iK",
        "outputId": "66df4da1-f65e-4dc8-ba74-651fef75d265"
      },
      "outputs": [
        {
          "name": "stdout",
          "output_type": "stream",
          "text": [
            "['Mahesh', 'anusha', 'siva']\n"
          ]
        }
      ],
      "source": [
        "# remove elements ass a parameter and appends them to the internal list\n",
        "\n",
        "ListManipulator = [\"Mahesh\",\"anusha\",\"siva\",\"Suri\"]\n",
        "ListManipulator.remove(\"Suri\")\n",
        "print(ListManipulator)"
      ]
    },
    {
      "cell_type": "code",
      "execution_count": 10,
      "metadata": {
        "colab": {
          "base_uri": "https://localhost:8080/"
        },
        "id": "CZkrdKdjWopy",
        "outputId": "802d81e9-f589-4102-f50d-0fa19ba6043c"
      },
      "outputs": [
        {
          "name": "stdout",
          "output_type": "stream",
          "text": [
            "[1, 2, 3, 4]\n"
          ]
        }
      ],
      "source": [
        "# Returns the current state of the internal list\n",
        "\n",
        "class ListManipulator:\n",
        "    def __init__(self, elements=[]):\n",
        "        self.elements = elements\n",
        "\n",
        "    def get_elements(self):\n",
        "        return self.elements\n",
        "\n",
        "# Create an instance of ListManipulator\n",
        "list_manipulator = ListManipulator([1, 2, 3, 4])\n",
        "\n",
        "# Retrieve the current state of the internal list value\n",
        "current_list_state = list_manipulator.get_elements()\n",
        "\n",
        "print(current_list_state)  # Output: [1, 2, 3, 4]\n"
      ]
    }
  ],
  "metadata": {
    "colab": {
      "provenance": [],
      "toc_visible": true
    },
    "kernelspec": {
      "display_name": "Python 3",
      "name": "python3"
    },
    "language_info": {
      "codemirror_mode": {
        "name": "ipython",
        "version": 3
      },
      "file_extension": ".py",
      "mimetype": "text/x-python",
      "name": "python",
      "nbconvert_exporter": "python",
      "pygments_lexer": "ipython3",
      "version": "3.11.2"
    }
  },
  "nbformat": 4,
  "nbformat_minor": 0
}
